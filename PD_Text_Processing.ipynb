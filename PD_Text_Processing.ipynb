{
 "cells": [
  {
   "cell_type": "code",
   "execution_count": 1,
   "id": "8eebc3fb",
   "metadata": {},
   "outputs": [],
   "source": [
    "import pandas as pd\n",
    "import numpy as np\n",
    "import re\n",
    "import string"
   ]
  },
  {
   "cell_type": "code",
   "execution_count": 2,
   "id": "3475248c",
   "metadata": {},
   "outputs": [],
   "source": [
    "file_path = 'datasets/patient-doctor.txt'"
   ]
  },
  {
   "cell_type": "code",
   "execution_count": 3,
   "id": "c7ff910d",
   "metadata": {},
   "outputs": [
    {
     "data": {
      "text/html": [
       "<div>\n",
       "<style scoped>\n",
       "    .dataframe tbody tr th:only-of-type {\n",
       "        vertical-align: middle;\n",
       "    }\n",
       "\n",
       "    .dataframe tbody tr th {\n",
       "        vertical-align: top;\n",
       "    }\n",
       "\n",
       "    .dataframe thead th {\n",
       "        text-align: right;\n",
       "    }\n",
       "</style>\n",
       "<table border=\"1\" class=\"dataframe\">\n",
       "  <thead>\n",
       "    <tr style=\"text-align: right;\">\n",
       "      <th></th>\n",
       "      <th>Patient</th>\n",
       "      <th>Doctor</th>\n",
       "    </tr>\n",
       "  </thead>\n",
       "  <tbody>\n",
       "    <tr>\n",
       "      <th>0</th>\n",
       "      <td>hello good morning doctor</td>\n",
       "      <td>good morning how are you feeling today</td>\n",
       "    </tr>\n",
       "    <tr>\n",
       "      <th>1</th>\n",
       "      <td>ive been feeling quite anxious lately its been...</td>\n",
       "      <td>i see can you tell me more about what might be...</td>\n",
       "    </tr>\n",
       "    <tr>\n",
       "      <th>2</th>\n",
       "      <td>i think its mainly related to my job and the p...</td>\n",
       "      <td>stress at work can definitely take a toll on o...</td>\n",
       "    </tr>\n",
       "    <tr>\n",
       "      <th>3</th>\n",
       "      <td>i work in a highly demanding environment and i...</td>\n",
       "      <td>that sounds tough do you have any support or c...</td>\n",
       "    </tr>\n",
       "    <tr>\n",
       "      <th>4</th>\n",
       "      <td>i try to talk to my friends but they dont alwa...</td>\n",
       "      <td>having a strong support system is important le...</td>\n",
       "    </tr>\n",
       "    <tr>\n",
       "      <th>...</th>\n",
       "      <td>...</td>\n",
       "      <td>...</td>\n",
       "    </tr>\n",
       "    <tr>\n",
       "      <th>2217</th>\n",
       "      <td>thank you for your understanding and guidance ...</td>\n",
       "      <td>youre welcome remember im here to help you nav...</td>\n",
       "    </tr>\n",
       "    <tr>\n",
       "      <th>2218</th>\n",
       "      <td>hi ive been struggling with selfdoubt lately</td>\n",
       "      <td>hello im here to support you through your feel...</td>\n",
       "    </tr>\n",
       "    <tr>\n",
       "      <th>2219</th>\n",
       "      <td>its hard for me to believe in myself when im c...</td>\n",
       "      <td>selfdoubt can be challenging but remember that...</td>\n",
       "    </tr>\n",
       "    <tr>\n",
       "      <th>2220</th>\n",
       "      <td>im afraid of failure and disappointing others</td>\n",
       "      <td>fear of failure is common but remember that mi...</td>\n",
       "    </tr>\n",
       "    <tr>\n",
       "      <th>2221</th>\n",
       "      <td>thank you for your understanding and guidance ...</td>\n",
       "      <td>youre very welcome remember im here to support...</td>\n",
       "    </tr>\n",
       "  </tbody>\n",
       "</table>\n",
       "<p>2222 rows × 2 columns</p>\n",
       "</div>"
      ],
      "text/plain": [
       "                                                Patient  \\\n",
       "0                             hello good morning doctor   \n",
       "1     ive been feeling quite anxious lately its been...   \n",
       "2     i think its mainly related to my job and the p...   \n",
       "3     i work in a highly demanding environment and i...   \n",
       "4     i try to talk to my friends but they dont alwa...   \n",
       "...                                                 ...   \n",
       "2217  thank you for your understanding and guidance ...   \n",
       "2218       hi ive been struggling with selfdoubt lately   \n",
       "2219  its hard for me to believe in myself when im c...   \n",
       "2220      im afraid of failure and disappointing others   \n",
       "2221  thank you for your understanding and guidance ...   \n",
       "\n",
       "                                                 Doctor  \n",
       "0                good morning how are you feeling today  \n",
       "1     i see can you tell me more about what might be...  \n",
       "2     stress at work can definitely take a toll on o...  \n",
       "3     that sounds tough do you have any support or c...  \n",
       "4     having a strong support system is important le...  \n",
       "...                                                 ...  \n",
       "2217  youre welcome remember im here to help you nav...  \n",
       "2218  hello im here to support you through your feel...  \n",
       "2219  selfdoubt can be challenging but remember that...  \n",
       "2220  fear of failure is common but remember that mi...  \n",
       "2221  youre very welcome remember im here to support...  \n",
       "\n",
       "[2222 rows x 2 columns]"
      ]
     },
     "execution_count": 3,
     "metadata": {},
     "output_type": "execute_result"
    }
   ],
   "source": [
    "pattern = r'[^A-Za-z\\s]'\n",
    "clean_text = lambda s: re.sub(pattern, '', str(s)).lower()\n",
    "\n",
    "def process_data(file_path):\n",
    "    with open(file_path, 'r', encoding='utf-8') as file:\n",
    "        conversations = file.readlines()\n",
    "    pairs = []\n",
    "    current_pair = {}\n",
    "    for conversation in conversations:\n",
    "        if conversation.startswith(\"Patient:\"):\n",
    "            if current_pair:\n",
    "                pairs.append(current_pair)\n",
    "            current_pair = {'Patient': conversation.replace(\"Patient:\", \"\").strip()}\n",
    "        elif conversation.startswith(\"Doctor:\"):\n",
    "            current_pair['Doctor'] = conversation.replace(\"Doctor:\", \"\").strip()\n",
    "    # Append the last pair if any\n",
    "    if current_pair:\n",
    "        pairs.append(current_pair)\n",
    "    df = pd.DataFrame(pairs)\n",
    "    # Data cleaning using the clean_text function\n",
    "    df['Patient'] = df['Patient'].apply(clean_text)\n",
    "    df['Doctor'] = df['Doctor'].apply(clean_text)\n",
    "    # Reorder the columns\n",
    "    df = df[['Patient', 'Doctor']]\n",
    "    return df\n",
    "\n",
    "# Example usage:\n",
    "df = process_data(file_path)\n",
    "df"
   ]
  },
  {
   "cell_type": "code",
   "execution_count": 4,
   "id": "d6ac182a",
   "metadata": {},
   "outputs": [
    {
     "data": {
      "text/plain": [
       "(1899, 2)"
      ]
     },
     "execution_count": 4,
     "metadata": {},
     "output_type": "execute_result"
    }
   ],
   "source": [
    "df.dropna()\n",
    "df = df.drop_duplicates()\n",
    "df.shape"
   ]
  },
  {
   "cell_type": "code",
   "execution_count": 5,
   "id": "e743570c",
   "metadata": {},
   "outputs": [],
   "source": [
    "df.to_csv('datasets/patient-doctor.csv', index=False)"
   ]
  }
 ],
 "metadata": {
  "kernelspec": {
   "display_name": "Python 3 (ipykernel)",
   "language": "python",
   "name": "python3"
  },
  "language_info": {
   "codemirror_mode": {
    "name": "ipython",
    "version": 3
   },
   "file_extension": ".py",
   "mimetype": "text/x-python",
   "name": "python",
   "nbconvert_exporter": "python",
   "pygments_lexer": "ipython3",
   "version": "3.11.3"
  }
 },
 "nbformat": 4,
 "nbformat_minor": 5
}
