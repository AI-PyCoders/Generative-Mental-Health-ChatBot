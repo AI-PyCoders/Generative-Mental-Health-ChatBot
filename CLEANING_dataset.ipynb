{
 "cells": [
  {
   "cell_type": "code",
   "execution_count": 1,
   "id": "c055886f",
   "metadata": {},
   "outputs": [],
   "source": [
    "import pandas as pd\n",
    "import numpy as np\n",
    "\n",
    "import seaborn as sns\n",
    "import matplotlib.pyplot as plt\n",
    "sns.set(rc={'figure.figsize': (15, 8)})"
   ]
  },
  {
   "cell_type": "code",
   "execution_count": 2,
   "id": "4f3beb4d",
   "metadata": {},
   "outputs": [],
   "source": [
    "df = pd.read_csv('reddit_comments_new.csv')"
   ]
  },
  {
   "cell_type": "code",
   "execution_count": 3,
   "id": "486a444c",
   "metadata": {},
   "outputs": [
    {
     "data": {
      "text/html": [
       "<div>\n",
       "<style scoped>\n",
       "    .dataframe tbody tr th:only-of-type {\n",
       "        vertical-align: middle;\n",
       "    }\n",
       "\n",
       "    .dataframe tbody tr th {\n",
       "        vertical-align: top;\n",
       "    }\n",
       "\n",
       "    .dataframe thead th {\n",
       "        text-align: right;\n",
       "    }\n",
       "</style>\n",
       "<table border=\"1\" class=\"dataframe\">\n",
       "  <thead>\n",
       "    <tr style=\"text-align: right;\">\n",
       "      <th></th>\n",
       "      <th>Post_Id</th>\n",
       "      <th>Subreddit</th>\n",
       "      <th>Post_Title</th>\n",
       "      <th>Post_Body</th>\n",
       "      <th>Comment</th>\n",
       "      <th>Upvotes</th>\n",
       "      <th>Downvotes</th>\n",
       "      <th>Comment_Created</th>\n",
       "      <th>Flair</th>\n",
       "    </tr>\n",
       "  </thead>\n",
       "  <tbody>\n",
       "    <tr>\n",
       "      <th>0</th>\n",
       "      <td>14ohevh</td>\n",
       "      <td>mentalhealth</td>\n",
       "      <td>TW (s******): Bipolar Disorder?</td>\n",
       "      <td>So, I'm not too sure how psychologists work, b...</td>\n",
       "      <td>I'm not sure if this is bipolar but I have had...</td>\n",
       "      <td>1</td>\n",
       "      <td>0</td>\n",
       "      <td>2023-07-02 03:21:19</td>\n",
       "      <td>Opinion / Thoughts</td>\n",
       "    </tr>\n",
       "    <tr>\n",
       "      <th>1</th>\n",
       "      <td>14oh8jm</td>\n",
       "      <td>mentalhealth</td>\n",
       "      <td>Could you share some music (preferably instrum...</td>\n",
       "      <td>\\r  \\n Hi, I have a history of trauma and PTSD...</td>\n",
       "      <td>It's not instrumental but the kooks inside in/...</td>\n",
       "      <td>1</td>\n",
       "      <td>0</td>\n",
       "      <td>2023-07-02 03:01:19</td>\n",
       "      <td>Question</td>\n",
       "    </tr>\n",
       "    <tr>\n",
       "      <th>2</th>\n",
       "      <td>14ogtgq</td>\n",
       "      <td>mentalhealth</td>\n",
       "      <td>Just looking for some constructive help</td>\n",
       "      <td>Just looking for an opinion.\\n\\nM 33. Ok so af...</td>\n",
       "      <td>Most likely if you're drinking while taking yo...</td>\n",
       "      <td>2</td>\n",
       "      <td>0</td>\n",
       "      <td>2023-07-02 02:28:38</td>\n",
       "      <td>Need Support</td>\n",
       "    </tr>\n",
       "    <tr>\n",
       "      <th>3</th>\n",
       "      <td>14ogtgq</td>\n",
       "      <td>mentalhealth</td>\n",
       "      <td>Just looking for some constructive help</td>\n",
       "      <td>Just looking for an opinion.\\n\\nM 33. Ok so af...</td>\n",
       "      <td>It's rough. I'm about 2 weeks into Fluoxetine ...</td>\n",
       "      <td>1</td>\n",
       "      <td>0</td>\n",
       "      <td>2023-07-02 02:42:23</td>\n",
       "      <td>Need Support</td>\n",
       "    </tr>\n",
       "    <tr>\n",
       "      <th>4</th>\n",
       "      <td>14ogqjj</td>\n",
       "      <td>mentalhealth</td>\n",
       "      <td>Is 180cm a good height for a man?</td>\n",
       "      <td>I can't stop thinking about it and it makes me...</td>\n",
       "      <td>Absolutely. The best part is you fit in almost...</td>\n",
       "      <td>1</td>\n",
       "      <td>0</td>\n",
       "      <td>2023-07-02 02:20:19</td>\n",
       "      <td>Opinion / Thoughts</td>\n",
       "    </tr>\n",
       "    <tr>\n",
       "      <th>...</th>\n",
       "      <td>...</td>\n",
       "      <td>...</td>\n",
       "      <td>...</td>\n",
       "      <td>...</td>\n",
       "      <td>...</td>\n",
       "      <td>...</td>\n",
       "      <td>...</td>\n",
       "      <td>...</td>\n",
       "      <td>...</td>\n",
       "    </tr>\n",
       "    <tr>\n",
       "      <th>10459</th>\n",
       "      <td>bl8sx2</td>\n",
       "      <td>AdultDepression</td>\n",
       "      <td>Waking up everyday</td>\n",
       "      <td>I don’t want to wake up. \\n\\nSometimes I’d hav...</td>\n",
       "      <td>I feel you!   I often just sob. Someone sugges...</td>\n",
       "      <td>5</td>\n",
       "      <td>0</td>\n",
       "      <td>2019-05-06 07:50:51</td>\n",
       "      <td>Rant</td>\n",
       "    </tr>\n",
       "    <tr>\n",
       "      <th>10460</th>\n",
       "      <td>bkbqbz</td>\n",
       "      <td>AdultDepression</td>\n",
       "      <td>No hope</td>\n",
       "      <td>Even if my depression magically lifted, I woul...</td>\n",
       "      <td>You're struggling to do anything with your lif...</td>\n",
       "      <td>4</td>\n",
       "      <td>0</td>\n",
       "      <td>2019-05-03 14:43:26</td>\n",
       "      <td>NaN</td>\n",
       "    </tr>\n",
       "    <tr>\n",
       "      <th>10461</th>\n",
       "      <td>bk6zql</td>\n",
       "      <td>AdultDepression</td>\n",
       "      <td>You know, I know they mean well, but can anyon...</td>\n",
       "      <td>NaN</td>\n",
       "      <td>I relate.  Well I used to hate it when people ...</td>\n",
       "      <td>13</td>\n",
       "      <td>0</td>\n",
       "      <td>2019-05-03 07:41:59</td>\n",
       "      <td>NaN</td>\n",
       "    </tr>\n",
       "    <tr>\n",
       "      <th>10462</th>\n",
       "      <td>bk6zql</td>\n",
       "      <td>AdultDepression</td>\n",
       "      <td>You know, I know they mean well, but can anyon...</td>\n",
       "      <td>NaN</td>\n",
       "      <td>Everyone’s different, some people are depresse...</td>\n",
       "      <td>7</td>\n",
       "      <td>0</td>\n",
       "      <td>2019-05-03 08:45:11</td>\n",
       "      <td>NaN</td>\n",
       "    </tr>\n",
       "    <tr>\n",
       "      <th>10463</th>\n",
       "      <td>bk6zql</td>\n",
       "      <td>AdultDepression</td>\n",
       "      <td>You know, I know they mean well, but can anyon...</td>\n",
       "      <td>NaN</td>\n",
       "      <td>Can get better, that's wise</td>\n",
       "      <td>7</td>\n",
       "      <td>0</td>\n",
       "      <td>2019-05-03 08:12:42</td>\n",
       "      <td>NaN</td>\n",
       "    </tr>\n",
       "  </tbody>\n",
       "</table>\n",
       "<p>10464 rows × 9 columns</p>\n",
       "</div>"
      ],
      "text/plain": [
       "       Post_Id        Subreddit  \\\n",
       "0      14ohevh     mentalhealth   \n",
       "1      14oh8jm     mentalhealth   \n",
       "2      14ogtgq     mentalhealth   \n",
       "3      14ogtgq     mentalhealth   \n",
       "4      14ogqjj     mentalhealth   \n",
       "...        ...              ...   \n",
       "10459   bl8sx2  AdultDepression   \n",
       "10460   bkbqbz  AdultDepression   \n",
       "10461   bk6zql  AdultDepression   \n",
       "10462   bk6zql  AdultDepression   \n",
       "10463   bk6zql  AdultDepression   \n",
       "\n",
       "                                              Post_Title  \\\n",
       "0                        TW (s******): Bipolar Disorder?   \n",
       "1      Could you share some music (preferably instrum...   \n",
       "2                Just looking for some constructive help   \n",
       "3                Just looking for some constructive help   \n",
       "4                      Is 180cm a good height for a man?   \n",
       "...                                                  ...   \n",
       "10459                                 Waking up everyday   \n",
       "10460                                            No hope   \n",
       "10461  You know, I know they mean well, but can anyon...   \n",
       "10462  You know, I know they mean well, but can anyon...   \n",
       "10463  You know, I know they mean well, but can anyon...   \n",
       "\n",
       "                                               Post_Body  \\\n",
       "0      So, I'm not too sure how psychologists work, b...   \n",
       "1      \\r  \\n Hi, I have a history of trauma and PTSD...   \n",
       "2      Just looking for an opinion.\\n\\nM 33. Ok so af...   \n",
       "3      Just looking for an opinion.\\n\\nM 33. Ok so af...   \n",
       "4      I can't stop thinking about it and it makes me...   \n",
       "...                                                  ...   \n",
       "10459  I don’t want to wake up. \\n\\nSometimes I’d hav...   \n",
       "10460  Even if my depression magically lifted, I woul...   \n",
       "10461                                                NaN   \n",
       "10462                                                NaN   \n",
       "10463                                                NaN   \n",
       "\n",
       "                                                 Comment Upvotes Downvotes  \\\n",
       "0      I'm not sure if this is bipolar but I have had...       1         0   \n",
       "1      It's not instrumental but the kooks inside in/...       1         0   \n",
       "2      Most likely if you're drinking while taking yo...       2         0   \n",
       "3      It's rough. I'm about 2 weeks into Fluoxetine ...       1         0   \n",
       "4      Absolutely. The best part is you fit in almost...       1         0   \n",
       "...                                                  ...     ...       ...   \n",
       "10459  I feel you!   I often just sob. Someone sugges...       5         0   \n",
       "10460  You're struggling to do anything with your lif...       4         0   \n",
       "10461  I relate.  Well I used to hate it when people ...      13         0   \n",
       "10462  Everyone’s different, some people are depresse...       7         0   \n",
       "10463                        Can get better, that's wise       7         0   \n",
       "\n",
       "           Comment_Created               Flair  \n",
       "0      2023-07-02 03:21:19  Opinion / Thoughts  \n",
       "1      2023-07-02 03:01:19            Question  \n",
       "2      2023-07-02 02:28:38        Need Support  \n",
       "3      2023-07-02 02:42:23        Need Support  \n",
       "4      2023-07-02 02:20:19  Opinion / Thoughts  \n",
       "...                    ...                 ...  \n",
       "10459  2019-05-06 07:50:51                Rant  \n",
       "10460  2019-05-03 14:43:26                 NaN  \n",
       "10461  2019-05-03 07:41:59                 NaN  \n",
       "10462  2019-05-03 08:45:11                 NaN  \n",
       "10463  2019-05-03 08:12:42                 NaN  \n",
       "\n",
       "[10464 rows x 9 columns]"
      ]
     },
     "execution_count": 3,
     "metadata": {},
     "output_type": "execute_result"
    }
   ],
   "source": [
    "df"
   ]
  },
  {
   "cell_type": "markdown",
   "id": "8ab601ca",
   "metadata": {},
   "source": [
    "### Handling the null values."
   ]
  },
  {
   "cell_type": "code",
   "execution_count": 4,
   "id": "a957b5c4",
   "metadata": {},
   "outputs": [
    {
     "name": "stdout",
     "output_type": "stream",
     "text": [
      "0\n"
     ]
    }
   ],
   "source": [
    "# Drop duplicate records\n",
    "df = df.drop_duplicates()\n",
    "# Check the number of duplicate records after cleaning\n",
    "print(df.duplicated().sum())"
   ]
  },
  {
   "cell_type": "code",
   "execution_count": 5,
   "id": "6923e6e0",
   "metadata": {},
   "outputs": [
    {
     "name": "stdout",
     "output_type": "stream",
     "text": [
      "Post_Id            0.000000\n",
      "Subreddit          0.000000\n",
      "Post_Title         0.000000\n",
      "Post_Body          0.027345\n",
      "Comment            0.000000\n",
      "Upvotes            0.000000\n",
      "Downvotes          0.000000\n",
      "Comment_Created    0.000000\n",
      "Flair              0.469357\n",
      "dtype: float64\n"
     ]
    }
   ],
   "source": [
    "print(df.isnull().mean()) "
   ]
  },
  {
   "cell_type": "code",
   "execution_count": 6,
   "id": "bb459b18",
   "metadata": {},
   "outputs": [],
   "source": [
    "# Since only 2% post body is empty, we will simply drop entries with empty post body\n",
    "df = df.dropna(subset=['Post_Body'])"
   ]
  },
  {
   "cell_type": "code",
   "execution_count": 7,
   "id": "c15e3ae1",
   "metadata": {},
   "outputs": [],
   "source": [
    "# We have 46% empty flair so we will set empty flairs as 'no_flair'\n",
    "df['Flair'].fillna('no_flair', inplace=True)"
   ]
  },
  {
   "cell_type": "code",
   "execution_count": 8,
   "id": "3e0366ed",
   "metadata": {},
   "outputs": [
    {
     "data": {
      "image/png": "[encoded data removed]",
      "text/plain": [
       "<Figure size 1080x576 with 1 Axes>"
      ]
     },
     "metadata": {},
     "output_type": "display_data"
    }
   ],
   "source": [
    "flair_counts = df['Flair'].value_counts()\n",
    "sns.barplot(x=flair_counts.index, y=flair_counts.values)\n",
    "plt.xlabel('Flair')\n",
    "plt.ylabel('Count')\n",
    "plt.title('Number of Flairs')\n",
    "plt.xticks(rotation=90)  # Rotate x-axis labels for better visibility\n",
    "plt.show()"
   ]
  },
  {
   "cell_type": "code",
   "execution_count": 9,
   "id": "312c010b",
   "metadata": {},
   "outputs": [
    {
     "data": {
      "text/plain": [
       "array(['1', '2', '3', '5', '0', '6', '38', '31', '21', '9', '4', '8', '7',\n",
       "       '10', '23', '11', '12', '16', '15', '14', '55', '37', '22', '42',\n",
       "       '50', '18', '46', '-1', '60', '25', '58', '35', '27', 'Upvotes',\n",
       "       '13', '82', '34', '29', '20', '99', '97', '94', '24', '148', '57',\n",
       "       '19', '-3', '248', '79', '71', '40', '26', '28', '53', '81', '76',\n",
       "       '143', '36', '33', '30', '66', '32', '17', '-23', '45', '43', '52',\n",
       "       '51', '64', '48', '63', '56', '47', '62', '49', '54', '73', '39',\n",
       "       '198', '146', '114', '41', '117', '69', '92', '44', '-4', '88',\n",
       "       '77', '87', '65', '-2'], dtype=object)"
      ]
     },
     "execution_count": 9,
     "metadata": {},
     "output_type": "execute_result"
    }
   ],
   "source": [
    "df['Upvotes'].unique()"
   ]
  },
  {
   "cell_type": "code",
   "execution_count": 10,
   "id": "962d5357",
   "metadata": {},
   "outputs": [
    {
     "data": {
      "text/plain": [
       "array(['0', 'Downvotes'], dtype=object)"
      ]
     },
     "execution_count": 10,
     "metadata": {},
     "output_type": "execute_result"
    }
   ],
   "source": [
    "df['Downvotes'].unique()"
   ]
  },
  {
   "cell_type": "code",
   "execution_count": 11,
   "id": "68c764d5",
   "metadata": {},
   "outputs": [
    {
     "name": "stdout",
     "output_type": "stream",
     "text": [
      "Post_Id             object\n",
      "Subreddit           object\n",
      "Post_Title          object\n",
      "Post_Body           object\n",
      "Comment             object\n",
      "Upvotes            float64\n",
      "Downvotes          float64\n",
      "Comment_Created     object\n",
      "Flair               object\n",
      "dtype: object\n"
     ]
    }
   ],
   "source": [
    "# Convert 'Upvotes' and 'Downvotes' columns to numeric\n",
    "df.loc[:, 'Upvotes'] = pd.to_numeric(df['Upvotes'], errors='coerce')\n",
    "df.loc[:, 'Downvotes'] = pd.to_numeric(df['Downvotes'], errors='coerce')\n",
    "\n",
    "# Check the data types after conversion\n",
    "print(df.dtypes)"
   ]
  },
  {
   "cell_type": "code",
   "execution_count": 12,
   "id": "8c1d25c8",
   "metadata": {},
   "outputs": [
    {
     "data": {
      "text/plain": [
       "Post_Id            0.0\n",
       "Subreddit          0.0\n",
       "Post_Title         0.0\n",
       "Post_Body          0.0\n",
       "Comment            0.0\n",
       "Upvotes            0.0\n",
       "Downvotes          0.0\n",
       "Comment_Created    0.0\n",
       "Flair              0.0\n",
       "dtype: float64"
      ]
     },
     "execution_count": 12,
     "metadata": {},
     "output_type": "execute_result"
    }
   ],
   "source": [
    "df = df.dropna(subset=['Upvotes','Downvotes'])\n",
    "df.isnull().mean()"
   ]
  },
  {
   "cell_type": "code",
   "execution_count": 13,
   "id": "40141bab",
   "metadata": {},
   "outputs": [
    {
     "data": {
      "text/plain": [
       "(10172, 9)"
      ]
     },
     "execution_count": 13,
     "metadata": {},
     "output_type": "execute_result"
    }
   ],
   "source": [
    "df.shape"
   ]
  },
  {
   "cell_type": "markdown",
   "id": "4d298f72",
   "metadata": {},
   "source": [
    "#### We currently have a dataset consisting of 10,172 entries. To preserve our cleaned data, we will save it as a new file named \"reddit_comment_cleaned.csv\"."
   ]
  },
  {
   "cell_type": "code",
   "execution_count": 14,
   "id": "1466d16a",
   "metadata": {},
   "outputs": [],
   "source": [
    "df.to_csv('datasets/reddit_comments_cleaned.csv', index=False)"
   ]
  }
 ],
 "metadata": {
  "kernelspec": {
   "display_name": "Python 3 (ipykernel)",
   "language": "python",
   "name": "python3"
  },
  "language_info": {
   "codemirror_mode": {
    "name": "ipython",
    "version": 3
   },
   "file_extension": ".py",
   "mimetype": "text/x-python",
   "name": "python",
   "nbconvert_exporter": "python",
   "pygments_lexer": "ipython3",
   "version": "3.9.12"
  }
 },
 "nbformat": 4,
 "nbformat_minor": 5
}
